{
 "cells": [
  {
   "cell_type": "markdown",
   "metadata": {},
   "source": [
    "# Logistic Regression\n",
    "\n",
    "## 1- Description\n",
    "- Response variable is qualitative\n",
    "\n",
    "- We will first start with a classification problem with a 2 class response variable\n",
    "- We will then apply Linear Regression to it\n",
    "- We will then apply Logistic Regression and show how the results differ.\n",
    "\n",
    "When the problem is one of classification, we can either discuss which category a certain observation should be classified as or we can discuss the probability of this observation being a part of a particular class. We will see that one implies the other. We choose the well known Titanic dataset in order apply these techniques to."
   ]
  },
  {
   "cell_type": "markdown",
   "metadata": {},
   "source": [
    "## 2- Titanic Dataset\n",
    "\n",
    "We obtain the Titanic dataset from https://www.kaggle.com/c/titanic/data. \n",
    "\n",
    "The titanic dataset has data on the passengers of the Titanic catastrophe and whether they had survived the event or not.\n",
    "\n",
    "These are the columns of the dataset:\n",
    "\n",
    "- PassengerId: Passenger ID\n",
    "- Pclass: Passenger Class\n",
    "- Name: Name of passenger\n",
    "- Sex: Sex of passenger\n",
    "- Age: Age of passenger\n",
    "- SibSp: Number of Siblings/Spouses of the passenger aboard\n",
    "- Parch Number: of Parents/Children of the passenger aboard\n",
    "- Ticket: Ticket Number\n",
    "- Fare: Passenger Fare\n",
    "- Cabin: Cabin\n",
    "- Embarked: Port of Embarkation\n",
    "\n",
    "The goal is to predict whether a passenger did survive or not\n",
    "\n",
    "The response variable is 'Survived' and has 2 classes; 0 corresponding to 'did not survive' and 1 corresponding to 'survived'.\n",
    "\n",
    "First we import some libraries"
   ]
  },
  {
   "cell_type": "code",
   "execution_count": 1,
   "metadata": {},
   "outputs": [],
   "source": [
    "# Import modules\n",
    "import pandas as pd\n",
    "import numpy as np\n",
    "import matplotlib.pyplot as plt\n",
    "import seaborn as sns\n",
    "import random\n",
    "from numpy.random import RandomState\n",
    "import math\n",
    "%matplotlib inline"
   ]
  },
  {
   "cell_type": "markdown",
   "metadata": {},
   "source": [
    "Next we import the 'Titanic.csv' file containing the data"
   ]
  },
  {
   "cell_type": "code",
   "execution_count": 2,
   "metadata": {},
   "outputs": [],
   "source": [
    "titanic = pd.read_csv('Titanic.csv')"
   ]
  },
  {
   "cell_type": "markdown",
   "metadata": {},
   "source": [
    "We can check to see what the dataset looks like"
   ]
  },
  {
   "cell_type": "code",
   "execution_count": 3,
   "metadata": {},
   "outputs": [
    {
     "data": {
      "text/html": [
       "<div>\n",
       "<style scoped>\n",
       "    .dataframe tbody tr th:only-of-type {\n",
       "        vertical-align: middle;\n",
       "    }\n",
       "\n",
       "    .dataframe tbody tr th {\n",
       "        vertical-align: top;\n",
       "    }\n",
       "\n",
       "    .dataframe thead th {\n",
       "        text-align: right;\n",
       "    }\n",
       "</style>\n",
       "<table border=\"1\" class=\"dataframe\">\n",
       "  <thead>\n",
       "    <tr style=\"text-align: right;\">\n",
       "      <th></th>\n",
       "      <th>PassengerId</th>\n",
       "      <th>Survived</th>\n",
       "      <th>Pclass</th>\n",
       "      <th>Name</th>\n",
       "      <th>Sex</th>\n",
       "      <th>Age</th>\n",
       "      <th>SibSp</th>\n",
       "      <th>Parch</th>\n",
       "      <th>Ticket</th>\n",
       "      <th>Fare</th>\n",
       "      <th>Cabin</th>\n",
       "      <th>Embarked</th>\n",
       "    </tr>\n",
       "  </thead>\n",
       "  <tbody>\n",
       "    <tr>\n",
       "      <th>0</th>\n",
       "      <td>1</td>\n",
       "      <td>0</td>\n",
       "      <td>3</td>\n",
       "      <td>Braund, Mr. Owen Harris</td>\n",
       "      <td>male</td>\n",
       "      <td>22.0</td>\n",
       "      <td>1</td>\n",
       "      <td>0</td>\n",
       "      <td>A/5 21171</td>\n",
       "      <td>7.2500</td>\n",
       "      <td>NaN</td>\n",
       "      <td>S</td>\n",
       "    </tr>\n",
       "    <tr>\n",
       "      <th>1</th>\n",
       "      <td>2</td>\n",
       "      <td>1</td>\n",
       "      <td>1</td>\n",
       "      <td>Cumings, Mrs. John Bradley (Florence Briggs Th...</td>\n",
       "      <td>female</td>\n",
       "      <td>38.0</td>\n",
       "      <td>1</td>\n",
       "      <td>0</td>\n",
       "      <td>PC 17599</td>\n",
       "      <td>71.2833</td>\n",
       "      <td>C85</td>\n",
       "      <td>C</td>\n",
       "    </tr>\n",
       "    <tr>\n",
       "      <th>2</th>\n",
       "      <td>3</td>\n",
       "      <td>1</td>\n",
       "      <td>3</td>\n",
       "      <td>Heikkinen, Miss. Laina</td>\n",
       "      <td>female</td>\n",
       "      <td>26.0</td>\n",
       "      <td>0</td>\n",
       "      <td>0</td>\n",
       "      <td>STON/O2. 3101282</td>\n",
       "      <td>7.9250</td>\n",
       "      <td>NaN</td>\n",
       "      <td>S</td>\n",
       "    </tr>\n",
       "    <tr>\n",
       "      <th>3</th>\n",
       "      <td>4</td>\n",
       "      <td>1</td>\n",
       "      <td>1</td>\n",
       "      <td>Futrelle, Mrs. Jacques Heath (Lily May Peel)</td>\n",
       "      <td>female</td>\n",
       "      <td>35.0</td>\n",
       "      <td>1</td>\n",
       "      <td>0</td>\n",
       "      <td>113803</td>\n",
       "      <td>53.1000</td>\n",
       "      <td>C123</td>\n",
       "      <td>S</td>\n",
       "    </tr>\n",
       "    <tr>\n",
       "      <th>4</th>\n",
       "      <td>5</td>\n",
       "      <td>0</td>\n",
       "      <td>3</td>\n",
       "      <td>Allen, Mr. William Henry</td>\n",
       "      <td>male</td>\n",
       "      <td>35.0</td>\n",
       "      <td>0</td>\n",
       "      <td>0</td>\n",
       "      <td>373450</td>\n",
       "      <td>8.0500</td>\n",
       "      <td>NaN</td>\n",
       "      <td>S</td>\n",
       "    </tr>\n",
       "  </tbody>\n",
       "</table>\n",
       "</div>"
      ],
      "text/plain": [
       "   PassengerId  Survived  Pclass  \\\n",
       "0            1         0       3   \n",
       "1            2         1       1   \n",
       "2            3         1       3   \n",
       "3            4         1       1   \n",
       "4            5         0       3   \n",
       "\n",
       "                                                Name     Sex   Age  SibSp  \\\n",
       "0                            Braund, Mr. Owen Harris    male  22.0      1   \n",
       "1  Cumings, Mrs. John Bradley (Florence Briggs Th...  female  38.0      1   \n",
       "2                             Heikkinen, Miss. Laina  female  26.0      0   \n",
       "3       Futrelle, Mrs. Jacques Heath (Lily May Peel)  female  35.0      1   \n",
       "4                           Allen, Mr. William Henry    male  35.0      0   \n",
       "\n",
       "   Parch            Ticket     Fare Cabin Embarked  \n",
       "0      0         A/5 21171   7.2500   NaN        S  \n",
       "1      0          PC 17599  71.2833   C85        C  \n",
       "2      0  STON/O2. 3101282   7.9250   NaN        S  \n",
       "3      0            113803  53.1000  C123        S  \n",
       "4      0            373450   8.0500   NaN        S  "
      ]
     },
     "execution_count": 3,
     "metadata": {},
     "output_type": "execute_result"
    }
   ],
   "source": [
    "titanic.head()"
   ]
  },
  {
   "cell_type": "markdown",
   "metadata": {},
   "source": [
    "We can say a few things about the above:\n",
    "\n",
    "- PassengerId probably doesn't mean anything and is just the ID of the passengers. In order to be sure we will plot this column against the Survived column to see if there is a correlation\n",
    "- We could expect the qualitative column Pclass to have a correlation with survival. If indeed this column represent the quality of the room, activities, this would imply a separation of the poor and rich. \n",
    "- The name column could largely be useless apart from the title embedded within the name string. We could extract the title. The title of a person may give insight into the importance of this person and hence the likelihood of them surviving and getting of the ship before the ship sinks\n",
    "- We definitely expect gender to have an impact on survival. It is common that females would be allowed to disembark first.\n",
    "- Age is also expected to be an indicator of survival. The term 'Women and Children first' is descriptive of group mentality of such catastrophic situations\n",
    "- SibSp and Parch are both expected to have a similar effect since they both indicate the family size\n",
    "- Ticket could be an indicator is the ticket nuimber can be extracted. i.e. the ticket number may be the order of distribution of tickets to travellers. The priviledged may be given tickets first. Or they may be a natural ordering of tickets according to the location within the ship. It is clear that the location within the ship could be an indicator of how easy it is to reach safety\n",
    "- Fare would be a clear indicator since this is indicative of how wealthy an individual is\n",
    "- Cabin could be an indicator in the sense that the existence of a cabinmay indicate a wealthier individual/family. \n",
    "- Embark location may indicate the location on the ship if the Embark order is of importance"
   ]
  },
  {
   "cell_type": "markdown",
   "metadata": {},
   "source": [
    "We create a copy of the dataset in order to experiment on without affecting the original dataset and look at correlations between the columns"
   ]
  },
  {
   "cell_type": "code",
   "execution_count": 4,
   "metadata": {},
   "outputs": [
    {
     "data": {
      "text/html": [
       "<div>\n",
       "<style scoped>\n",
       "    .dataframe tbody tr th:only-of-type {\n",
       "        vertical-align: middle;\n",
       "    }\n",
       "\n",
       "    .dataframe tbody tr th {\n",
       "        vertical-align: top;\n",
       "    }\n",
       "\n",
       "    .dataframe thead th {\n",
       "        text-align: right;\n",
       "    }\n",
       "</style>\n",
       "<table border=\"1\" class=\"dataframe\">\n",
       "  <thead>\n",
       "    <tr style=\"text-align: right;\">\n",
       "      <th></th>\n",
       "      <th>PassengerId</th>\n",
       "      <th>Survived</th>\n",
       "      <th>Pclass</th>\n",
       "      <th>Age</th>\n",
       "      <th>SibSp</th>\n",
       "      <th>Parch</th>\n",
       "      <th>Fare</th>\n",
       "    </tr>\n",
       "  </thead>\n",
       "  <tbody>\n",
       "    <tr>\n",
       "      <th>PassengerId</th>\n",
       "      <td>1.000000</td>\n",
       "      <td>-0.005007</td>\n",
       "      <td>-0.035144</td>\n",
       "      <td>0.036847</td>\n",
       "      <td>-0.057527</td>\n",
       "      <td>-0.001652</td>\n",
       "      <td>0.012658</td>\n",
       "    </tr>\n",
       "    <tr>\n",
       "      <th>Survived</th>\n",
       "      <td>-0.005007</td>\n",
       "      <td>1.000000</td>\n",
       "      <td>-0.338481</td>\n",
       "      <td>-0.077221</td>\n",
       "      <td>-0.035322</td>\n",
       "      <td>0.081629</td>\n",
       "      <td>0.257307</td>\n",
       "    </tr>\n",
       "    <tr>\n",
       "      <th>Pclass</th>\n",
       "      <td>-0.035144</td>\n",
       "      <td>-0.338481</td>\n",
       "      <td>1.000000</td>\n",
       "      <td>-0.369226</td>\n",
       "      <td>0.083081</td>\n",
       "      <td>0.018443</td>\n",
       "      <td>-0.549500</td>\n",
       "    </tr>\n",
       "    <tr>\n",
       "      <th>Age</th>\n",
       "      <td>0.036847</td>\n",
       "      <td>-0.077221</td>\n",
       "      <td>-0.369226</td>\n",
       "      <td>1.000000</td>\n",
       "      <td>-0.308247</td>\n",
       "      <td>-0.189119</td>\n",
       "      <td>0.096067</td>\n",
       "    </tr>\n",
       "    <tr>\n",
       "      <th>SibSp</th>\n",
       "      <td>-0.057527</td>\n",
       "      <td>-0.035322</td>\n",
       "      <td>0.083081</td>\n",
       "      <td>-0.308247</td>\n",
       "      <td>1.000000</td>\n",
       "      <td>0.414838</td>\n",
       "      <td>0.159651</td>\n",
       "    </tr>\n",
       "    <tr>\n",
       "      <th>Parch</th>\n",
       "      <td>-0.001652</td>\n",
       "      <td>0.081629</td>\n",
       "      <td>0.018443</td>\n",
       "      <td>-0.189119</td>\n",
       "      <td>0.414838</td>\n",
       "      <td>1.000000</td>\n",
       "      <td>0.216225</td>\n",
       "    </tr>\n",
       "    <tr>\n",
       "      <th>Fare</th>\n",
       "      <td>0.012658</td>\n",
       "      <td>0.257307</td>\n",
       "      <td>-0.549500</td>\n",
       "      <td>0.096067</td>\n",
       "      <td>0.159651</td>\n",
       "      <td>0.216225</td>\n",
       "      <td>1.000000</td>\n",
       "    </tr>\n",
       "  </tbody>\n",
       "</table>\n",
       "</div>"
      ],
      "text/plain": [
       "             PassengerId  Survived    Pclass       Age     SibSp     Parch  \\\n",
       "PassengerId     1.000000 -0.005007 -0.035144  0.036847 -0.057527 -0.001652   \n",
       "Survived       -0.005007  1.000000 -0.338481 -0.077221 -0.035322  0.081629   \n",
       "Pclass         -0.035144 -0.338481  1.000000 -0.369226  0.083081  0.018443   \n",
       "Age             0.036847 -0.077221 -0.369226  1.000000 -0.308247 -0.189119   \n",
       "SibSp          -0.057527 -0.035322  0.083081 -0.308247  1.000000  0.414838   \n",
       "Parch          -0.001652  0.081629  0.018443 -0.189119  0.414838  1.000000   \n",
       "Fare            0.012658  0.257307 -0.549500  0.096067  0.159651  0.216225   \n",
       "\n",
       "                 Fare  \n",
       "PassengerId  0.012658  \n",
       "Survived     0.257307  \n",
       "Pclass      -0.549500  \n",
       "Age          0.096067  \n",
       "SibSp        0.159651  \n",
       "Parch        0.216225  \n",
       "Fare         1.000000  "
      ]
     },
     "execution_count": 4,
     "metadata": {},
     "output_type": "execute_result"
    }
   ],
   "source": [
    "# Create a dataframe for EDA (Exploratory Data Analysis) purposes\n",
    "titanicEDA =titanic.copy()\n",
    "\n",
    "titanicEDA.corr()"
   ]
  },
  {
   "cell_type": "markdown",
   "metadata": {},
   "source": [
    "We can see from the above correlation information that some columns are correlated. For instance, Fare is an indicator of survival. Parch, Fare and SibSp seem correlated."
   ]
  },
  {
   "cell_type": "markdown",
   "metadata": {},
   "source": [
    "We can check to see if there are any missing data using a heatmap"
   ]
  },
  {
   "cell_type": "code",
   "execution_count": 5,
   "metadata": {},
   "outputs": [
    {
     "data": {
      "text/plain": [
       "<matplotlib.axes._subplots.AxesSubplot at 0x18d9dce5630>"
      ]
     },
     "execution_count": 5,
     "metadata": {},
     "output_type": "execute_result"
    },
    {
     "data": {
      "image/png": "[encoded data removed]",
      "text/plain": [
       "<matplotlib.figure.Figure at 0x18d9dc45978>"
      ]
     },
     "metadata": {},
     "output_type": "display_data"
    }
   ],
   "source": [
    "sns.heatmap(titanicEDA.isnull(),yticklabels=False,cbar=False,cmap='viridis')"
   ]
  },
  {
   "cell_type": "markdown",
   "metadata": {},
   "source": [
    "It is clear that the Age missing data will need to be dealt with. Possible approaches could be to assign he age for each passenger for which this is missing, the average age of those with the same Sex and Pclass. Other approaches may involve the median or considering SibSp and Parch as well. However, here we will keep it relatively simple."
   ]
  },
  {
   "cell_type": "markdown",
   "metadata": {},
   "source": [
    "We can display the above in terms of percentage data missing as follows"
   ]
  },
  {
   "cell_type": "code",
   "execution_count": 6,
   "metadata": {},
   "outputs": [
    {
     "name": "stdout",
     "output_type": "stream",
     "text": [
      "Percentage of Age == NaN values:  19.865319865319865\n",
      "Percentage of Cabin == NaN values:  77.1043771043771\n"
     ]
    }
   ],
   "source": [
    "print(\"Percentage of Age == NaN values: \", 100*np.sum(pd.isnull(titanicEDA['Age']))/np.size(titanicEDA['Age']))\n",
    "print(\"Percentage of Cabin == NaN values: \", 100*(1 - titanicEDA['Cabin'].count()/np.size(titanicEDA['Cabin'])))"
   ]
  },
  {
   "cell_type": "markdown",
   "metadata": {},
   "source": [
    "We can have a quick look, via barplots, the relationship between the categorical variables and the Survived column "
   ]
  },
  {
   "cell_type": "code",
   "execution_count": 7,
   "metadata": {},
   "outputs": [
    {
     "data": {
      "image/png": "[encoded data removed]",
      "text/plain": [
       "<matplotlib.figure.Figure at 0x18d9ddf1e80>"
      ]
     },
     "metadata": {},
     "output_type": "display_data"
    }
   ],
   "source": [
    "# The fields we want to look at\n",
    "fields = ['Survived','SibSp','Pclass','Embarked','Sex','Parch']\n",
    "\n",
    "# The number of rows and columns in the figure\n",
    "nrows = 2\n",
    "ncols = int(len(fields)/nrows)\n",
    "\n",
    "# Obtain the figure and axes handles\n",
    "fig,ax = plt.subplots(nrows=nrows,ncols=ncols,figsize=(ncols*4,nrows*4))\n",
    "\n",
    "# Iterate through the rows and columns of the figure and plot the respective element within fields in that row/col\n",
    "for row in range(0,nrows):\n",
    "    for col in range(0,ncols):\n",
    "        thisAxis = ax[row][col]\n",
    "        field = row*ncols + col\n",
    "        \n",
    "        # We cannot plot an element that doesn't exist\n",
    "        if field >= len(fields):\n",
    "            continue\n",
    "        sns.countplot(x=fields[field],hue=fields[0],data=titanicEDA,palette='RdBu_r',ax=thisAxis)\n",
    "        \n",
    "plt.tight_layout()  "
   ]
  },
  {
   "cell_type": "markdown",
   "metadata": {},
   "source": [
    "This gives us some initial insight into whether a categorical variable could be useful in our models or not. \n",
    "\n",
    "Some insights are as follows:\n",
    "\n",
    "- The data is highly skewed in the sense that there are more passengers that have not survived\n",
    "- Those with no siblings or spouses have a lower rate of survival\n",
    "- If the passenger was in Pclass 3, that passenger has a very bad rate of survival compared to the other classes\n",
    "- If the passenger had embarked at 'S', that passenger has a lower survival probability than the other embarked locations\n",
    "- The Sex plot indicates that the 'Women and Children first' comment may indeed be true.\n",
    "- The Parch and SibSp columns seem to have the same effect\n",
    "\n",
    "Next, we will have a look at how Age is related to survival"
   ]
  },
  {
   "cell_type": "code",
   "execution_count": 8,
   "metadata": {},
   "outputs": [
    {
     "data": {
      "image/png": "[encoded data removed]",
      "text/plain": [
       "<matplotlib.figure.Figure at 0x18d9e4b8208>"
      ]
     },
     "metadata": {},
     "output_type": "display_data"
    }
   ],
   "source": [
    "g = sns.FacetGrid(data=titanicEDA,row='Sex',col='Pclass',hue='Survived',margin_titles=True)\n",
    "\n",
    "g.map(sns.distplot, 'Age', kde=False,bins=np.arange(0,70,5),hist_kws=dict(edgecolor='black'))\n",
    "\n",
    "g.add_legend() \n",
    "\n",
    "plt.show()  "
   ]
  },
  {
   "cell_type": "markdown",
   "metadata": {},
   "source": [
    "We can see from the above distributions that:\n",
    "\n",
    "- Males had best survival rates in Pclass 1\n",
    "- Females had best survival rates in Pclass 1 and 2\n",
    "- For females, being very young in Pclass 1 meant you had greater chance of death. While being in Pclass 2 meant greater chance of survival\n",
    "\n",
    "Let's create a TotalPpl column and see how that correlates with survival"
   ]
  },
  {
   "cell_type": "code",
   "execution_count": 9,
   "metadata": {},
   "outputs": [
    {
     "data": {
      "image/png": "[encoded data removed]",
      "text/plain": [
       "<matplotlib.figure.Figure at 0x18d9e44b1d0>"
      ]
     },
     "metadata": {},
     "output_type": "display_data"
    }
   ],
   "source": [
    "titanicEDA['TotalPpl'] = titanicEDA['Parch'] + titanicEDA['SibSp']\n",
    "\n",
    "fig,ax = plt.subplots(nrows=1,ncols=1,figsize=(10,10))\n",
    "\n",
    "sns.barplot(x='TotalPpl',y='Survived',hue='Sex',data=titanicEDA,ci=0)\n",
    "\n",
    "ax.set_ylabel('Mean Survival Rate')\n",
    "\n",
    "plt.show()"
   ]
  },
  {
   "cell_type": "markdown",
   "metadata": {},
   "source": [
    "When viewed all together, it looks like there is no relationship between TotalPpl and Survival. However, looking at this data split by gender shows that as the size of a passengers family increases toward 3, male passenger survival rates increase while female passenger survival rates remain constant. Increasing the family size further dramatically decreases survival rates.\n",
    "\n",
    "Next, let's look at passenger titles to see if there is any insight there."
   ]
  },
  {
   "cell_type": "code",
   "execution_count": 10,
   "metadata": {},
   "outputs": [
    {
     "data": {
      "image/png": "[encoded data removed]",
      "text/plain": [
       "<matplotlib.figure.Figure at 0x18d9ea3eda0>"
      ]
     },
     "metadata": {},
     "output_type": "display_data"
    }
   ],
   "source": [
    "def getTitleFromTitanic(x):\n",
    "    '''\n",
    "    A function to extract the title from a passenger name\n",
    "    x:= Name of passenger\n",
    "    '''\n",
    "    for elt in x.split():\n",
    "        if('.' in elt):\n",
    "            return elt.replace('.','')\n",
    "    return ''\n",
    "\n",
    "#Get the title from the name\n",
    "titanicEDA['Title'] = titanicEDA['Name'].apply(getTitleFromTitanic)\n",
    "\n",
    "dic_OrigMap = {'Mr': 'Mr', 'Mrs': 'Mrs', 'Miss': 'Miss', 'Master':'Master','Don':'Don','Rev':'Rev',\n",
    "    'Mme':'Mme',\n",
    "    'Ms':'Ms','Major':'Major', 'Lady':'Lady', 'Sir':'Sir', 'Mlle':'Mlle', \n",
    "    'Col':'Col', 'Capt':'Capt', 'Countess':'Countess','Jonkheer':'Jonkheer', 'Dr':'Dr', 'Dona':'Dona'}\n",
    "\n",
    "dic_Map = {'Mr': 'Mr', 'Mrs': 'Mrs', 'Miss': 'Miss', 'Master':'Master','Don':'Mr','Rev':'Rev',\n",
    "    'Mme':'Mrs',\n",
    "    'Ms':'Ms','Major':'Mr', 'Lady':'Mrs', 'Sir':'Master', 'Mlle':'Miss', \n",
    "    'Col':'Col', 'Capt':'Rev', 'Countess':'Mrs','Jonkheer':'Master', 'Dr':'Dr', 'Dona':'Mrs'}\n",
    "\n",
    "titanicEDA['Title'] = titanicEDA['Title'].map(dic_Map)\n",
    "\n",
    "# Plot\n",
    "fig,ax = plt.subplots()\n",
    "sns.barplot(x='Title',y='Survived',data=titanicEDA,ci=0)\n",
    "fig.set_size_inches(10,10)"
   ]
  },
  {
   "cell_type": "markdown",
   "metadata": {},
   "source": [
    "From the above plot we can see that Reverands have the worst survival rates (we check below to see how reliable this statement is by looking at how many 'Rev's there actually was. There were 7, so not so unreliable). Those with the title of 'Mr' had the next worst survival rates."
   ]
  },
  {
   "cell_type": "code",
   "execution_count": 11,
   "metadata": {},
   "outputs": [
    {
     "data": {
      "text/plain": [
       "7"
      ]
     },
     "execution_count": 11,
     "metadata": {},
     "output_type": "execute_result"
    }
   ],
   "source": [
    "titanicEDA[titanicEDA['Title'] == 'Rev']['PassengerId'].count()"
   ]
  },
  {
   "cell_type": "markdown",
   "metadata": {},
   "source": [
    "Next we obtain the ticket number as discussed above to see if there is indication of a relationship between survival and the ticket number"
   ]
  },
  {
   "cell_type": "code",
   "execution_count": 12,
   "metadata": {},
   "outputs": [
    {
     "data": {
      "image/png": "[encoded data removed]",
      "text/plain": [
       "<matplotlib.figure.Figure at 0x18d9e9e8588>"
      ]
     },
     "metadata": {},
     "output_type": "display_data"
    }
   ],
   "source": [
    "def GetTicketNo(x):\n",
    "    a = x.split()\n",
    "    n = len(a)\n",
    "    if n == 1:\n",
    "        if(a[0] != 'LINE'):\n",
    "            return int(a[0])\n",
    "        else:\n",
    "            return 0\n",
    "    else:\n",
    "        return int(a[n-1])\n",
    "\n",
    "# Bucket the data into greater than 200k and less than 200k\n",
    "titanicEDA['TicketBucket'] = (titanicEDA['Ticket'].apply(GetTicketNo)).apply(lambda x: 'G200k' if x > 200000 else 'L200k')\n",
    "\n",
    "# Plot the data\n",
    "fig,ax = plt.subplots(nrows=1,ncols=1,figsize=(10,10))\n",
    "\n",
    "sns.barplot(x='TicketBucket',y='Survived',hue='Sex',data=titanicEDA,ci=0)\n",
    "\n",
    "ax.set_ylabel('Mean Survival Rate')\n",
    "\n",
    "plt.show()"
   ]
  },
  {
   "cell_type": "markdown",
   "metadata": {},
   "source": [
    "It looks like there is evidence that those with a lower ticket number had greater survival rates for both males and females"
   ]
  },
  {
   "cell_type": "markdown",
   "metadata": {},
   "source": [
    "Next let's look at whether we can see anything interesting with the Cabin variable"
   ]
  },
  {
   "cell_type": "code",
   "execution_count": 13,
   "metadata": {},
   "outputs": [
    {
     "data": {
      "image/png": "[encoded data removed]",
      "text/plain": [
       "<matplotlib.figure.Figure at 0x18d9e9dc2e8>"
      ]
     },
     "metadata": {},
     "output_type": "display_data"
    }
   ],
   "source": [
    "#Cabin either exists or doesn't -> 1 or 0\n",
    "titanicEDA['CabinExistence'] = pd.isnull(titanicEDA['Cabin']).apply(lambda x: not x)\n",
    "\n",
    "fig,ax = plt.subplots(nrows=1,ncols=1,figsize=(10,10))\n",
    "\n",
    "sns.barplot(x='CabinExistence',y='Survived',hue='Sex',data=titanicEDA,ci=0)\n",
    "\n",
    "ax.set_ylabel('Mean Survival Rate')\n",
    "\n",
    "plt.show()"
   ]
  },
  {
   "cell_type": "markdown",
   "metadata": {},
   "source": [
    "The existence of a cabin indicates a greater survival rate. \n",
    "\n",
    "We can further disect the dataset by looking at name lengths and the letters within the Cabin name but we put an end to the EDA at this point since the purpose of this article is to demonstrate and discuss Logistic Regression in general and not exhaust the Titanic Dataset.\n",
    "\n",
    "Below, we introduce a function to clean and transform this dataset according to what we have observed above in order to smoothly apply the concepts which follow and keep the flow of discussion going smoothly without having to Ad-Hoc transform the data. "
   ]
  },
  {
   "cell_type": "code",
   "execution_count": 14,
   "metadata": {},
   "outputs": [],
   "source": [
    "def getTitleFromTitanic(x):\n",
    "    '''\n",
    "    A function to extract the title from a passenger name\n",
    "    x:= Name of passenger\n",
    "    '''\n",
    "    for elt in x.split():\n",
    "        if('.' in elt):\n",
    "            return elt.replace('.','')\n",
    "    return ''\n",
    "\n",
    "def GetFirstCharacter(st):\n",
    "    '''\n",
    "    A function to extract the first letter (lower case) from a string. If string is null then output is an empty string\n",
    "    st: A string\n",
    "    '''\n",
    "    if(pd.isnull(st) or len(st)==0):\n",
    "        return 0\n",
    "    else:\n",
    "        return ord(st[0].lower())\n",
    "    \n",
    "def AddTotalPpl(df):\n",
    "    '''\n",
    "    A function to add the Parch and SibSp into a new column called 'TotalPpl'\n",
    "    '''\n",
    "    df_temp = df.copy()\n",
    "    df_temp['TotalPpl'] = df['Parch'] + df['SibSp']\n",
    "    return df_temp\n",
    "\n",
    "def CleanTitanicData(df):\n",
    "    '''\n",
    "    A function to clean the titanic dataframe according to the EDA above\n",
    "    '''\n",
    "    \n",
    "    #Sex is either male or female. Create a series which has entries 0 and 1 specifying whether it's one or the other\n",
    "    sex = pd.get_dummies(df['Sex'],drop_first=True)\n",
    "    \n",
    "    #Similar to the sex series\n",
    "    embark = pd.get_dummies(df['Embarked'],drop_first=True)\n",
    "    \n",
    "    #Cabin either exists or doesn't -> 1 or 0\n",
    "    Cabin = pd.DataFrame(pd.isnull(df['Cabin']).apply(lambda x: not x),columns=['Cabin'])\n",
    "    \n",
    "    # Get the ticket number and then bucket them into >200000 and < 200000\n",
    "    df['TicketBucket'] = (df['Ticket'].apply(GetTicketNo)).apply(lambda x: 'G200k' if x > 200000 else 'L200k')\n",
    "    TicketBucket = pd.get_dummies(df['TicketBucket'],drop_first=True)\n",
    "    \n",
    "    #Get first letter of cabin\n",
    "    #Cabin = df['Cabin'].apply(GetFirstCharacter)\n",
    "    \n",
    "    #Get the title from the name\n",
    "    df['Title'] = df['Name'].apply(getTitleFromTitanic)\n",
    "    \n",
    "    df['Title'] = df['Title'].map(dic_Map)\n",
    "    \n",
    "    Title =  pd.get_dummies(df['Title'],drop_first=True)\n",
    "    \n",
    "    # Get the name lenth and bucket it\n",
    "    df['NameLengthBucket'] = df['Name'].apply(lambda x: int(len(x)/10)*10)\n",
    "    \n",
    "    #Get rid of some columns\n",
    "    df_temp = df.drop(['Sex','Embarked','Name','Ticket','Cabin','Title','TicketBucket'],axis=1,inplace=False)\n",
    "    \n",
    "    #Concat the series to the data frame\n",
    "    df_temp = pd.concat([df_temp,sex,embark,Cabin,Title,TicketBucket],axis=1)\n",
    "    \n",
    "    df_temp['TotalPpl'] = df['Parch'] + df['SibSp']\n",
    "    \n",
    "    return df_temp\n",
    "\n",
    "\n",
    "def setAge(row,meanAge):\n",
    "    '''\n",
    "    This function is intended to be used via the apply() funtion and applies to rows in the format (Age,sex,Pclass).\n",
    "    This function replaces any null Age with the mean Age of the same sex and Pclass as given in the meanAge argument/dataframe.\n",
    "    '''\n",
    "    Age = row[0]\n",
    "    male = row[1]\n",
    "    Pclass = row[2]\n",
    "    if(pd.isnull(Age)):\n",
    "        return int(meanAge[(meanAge['Pclass'] == Pclass) & (meanAge['male'] == male)]['Age'].iloc[0])\n",
    "    else:\n",
    "        return int(Age)\n",
    "    \n",
    "def setFare(row,meanFare):\n",
    "    '''\n",
    "    This function is intended to be used via the apply() funtion and applies to rows in the format (Fare,sex,Pclass).\n",
    "    This function replaces any null Fare with the mean Fare of the same sex and Pclass as given in the meanFare argument/dataframe.\n",
    "    '''\n",
    "    Fare = row[0]\n",
    "    male = row[1]\n",
    "    Pclass = row[2]\n",
    "    if(pd.isnull(Fare)):\n",
    "        return int(meanFare[(meanFare['Pclass'] == Pclass) & (meanFare['male'] == male)]['Fare'].iloc[0])\n",
    "    else:\n",
    "        return int(Fare)\n",
    "    \n",
    "def fillTitanicNa(df,fillAge=True,fillFare=True):\n",
    "    '''\n",
    "    This function takes a titanic data frame, cleans it and fills in missing Age and Fare values. If it is desired\n",
    "    that the Age not be filled the fillAge should be set to False. Likewise with fillFare.\n",
    "    '''\n",
    "    \n",
    "    # Clean and transform the data\n",
    "    df_temp = CleanTitanicData(df)\n",
    "\n",
    "    # Get the mean Fare values per grouping\n",
    "    t_Fare = pd.DataFrame(df_temp.dropna().groupby(['Pclass','male']).mean()['Fare'])\n",
    "    t_Fare = pd.DataFrame(t_Fare.to_records())\n",
    "\n",
    "    # Get the mean Age values per grouping\n",
    "    t_Age = pd.DataFrame(df_temp.dropna().groupby(['Pclass','male']).mean()['Age'])\n",
    "    t_Age = pd.DataFrame(t_Age.to_records())\n",
    "    \n",
    "    if(fillAge == True):\n",
    "        df_temp['Age'] = df_temp[['Age','male','Pclass']].apply(lambda row: setAge(row,t_Age),axis=1)\n",
    "\n",
    "    if(fillFare == True):\n",
    "        df_temp['Fare'] = df_temp[['Fare','male','Pclass']].apply(lambda row: setFare(row,t_Fare),axis=1)\n",
    "        \n",
    "    if(fillAge == False or fillFare == False):\n",
    "        df_temp.dropna(inplace = True)\n",
    "        \n",
    "    return df_temp\n"
   ]
  },
  {
   "cell_type": "code",
   "execution_count": 15,
   "metadata": {},
   "outputs": [],
   "source": [
    "titanicCleaned = titanic.copy()\n",
    "titanicCleaned = fillTitanicNa(titanicCleaned,True,True)"
   ]
  },
  {
   "cell_type": "markdown",
   "metadata": {},
   "source": [
    "## 3- Linear Regression\n",
    "\n",
    "Let's keep it simple and only consider the 'Age' variable as an explanatory variable for 'Survived'. The 'Survived' response variable is encoded as 0 for did not survive and 1 for survived. This gives a naturally ordered response variable and we can apply Logistic Regression to regress Survived onto Age.\n",
    "\n",
    "The linear equation we are trying to fit is:\n",
    "\n",
    "$$Y = \\beta_0 + \\beta_1 X_1$$\n",
    "\n",
    "where $X_1$ is the Age parameter. We have a seperate article going in to the theory behind Linear Regression. Here we apply the model to drive the point across."
   ]
  },
  {
   "cell_type": "code",
   "execution_count": 26,
   "metadata": {},
   "outputs": [
    {
     "name": "stdout",
     "output_type": "stream",
     "text": [
      "The formula is:\n",
      "\n",
      " Y=[0.4548291] + [-0.00243186] * X_1\n",
      "\n",
      "\n",
      " The first 10 fitted values\n",
      "[[0.40132814]\n",
      " [0.36241835]\n",
      " [0.39160069]\n",
      " [0.36971393]\n",
      " [0.36971393]\n",
      " [0.39160069]\n",
      " [0.32350856]\n",
      " [0.44996537]\n",
      " [0.38916883]\n",
      " [0.42078303]]\n"
     ]
    }
   ],
   "source": [
    "from sklearn.linear_model import LinearRegression\n",
    "from sklearn.cross_validation import train_test_split\n",
    "\n",
    "# Create our parameters X and response y\n",
    "X = titanicCleaned['Age']\n",
    "y = titanicCleaned['Survived']\n",
    "\n",
    "# Reshape the data to indicate that this is many observations of one parameter\n",
    "X = X.values.reshape(-1,1)\n",
    "y = y.values.reshape(-1,1)\n",
    "\n",
    "# Get the model\n",
    "lm = LinearRegression()\n",
    "\n",
    "# Fit the model\n",
    "lm.fit(X,y)\n",
    "\n",
    "print('The formula is:\\n\\n Y={} + {} * X_1'.format(lm.intercept_,lm.coef_[0]))\n",
    "\n",
    "# Let's get the predictions\n",
    "fitted = lm.predict(X)\n",
    "\n",
    "# print the first 10 predictions\n",
    "print('\\n\\n The first 10 fitted values')\n",
    "print(fitted[0:10])"
   ]
  },
  {
   "cell_type": "markdown",
   "metadata": {},
   "source": [
    "The residuals are expressed as\n",
    "\n",
    "$$r_i = y_i - \\hat{y}_i$$\n",
    "\n",
    "and are calculated as follows"
   ]
  },
  {
   "cell_type": "code",
   "execution_count": 30,
   "metadata": {},
   "outputs": [
    {
     "name": "stdout",
     "output_type": "stream",
     "text": [
      "First 10 residuals\n",
      "[[-0.40132814]\n",
      " [ 0.63758165]\n",
      " [ 0.60839931]\n",
      " [ 0.63028607]\n",
      " [-0.36971393]\n",
      " [-0.39160069]\n",
      " [-0.32350856]\n",
      " [-0.44996537]\n",
      " [ 0.61083117]\n",
      " [ 0.57921697]]\n"
     ]
    }
   ],
   "source": [
    "# Residuals\n",
    "residuals = y - fitted\n",
    "print('First 10 residuals')\n",
    "print(residuals[0:10])"
   ]
  },
  {
   "cell_type": "markdown",
   "metadata": {},
   "source": [
    "We may want to classify a passenger into the class 'Survived' if we predict a value greater than some threshold and did not survive otherwise. We create a function for this below and then predict the survival response variable for the test dataset using a threshold of 0.35"
   ]
  },
  {
   "cell_type": "code",
   "execution_count": 31,
   "metadata": {},
   "outputs": [],
   "source": [
    "def Predict(model,X,threshold):\n",
    "    '''\n",
    "    This function assigns observations into predicted classes Not Survived and Survived\n",
    "    model:= the Linear Regression model used to fit the training data\n",
    "    X:= the observations\n",
    "    threshold:= the value for which all predicted values smaller than this threshold is \n",
    "                classified as did not survive\n",
    "    '''\n",
    "    rawPrediction = model.predict(X)\n",
    "    prediction = rawPrediction > threshold\n",
    "    return list(map(lambda x: 1 if x else 0,prediction))"
   ]
  },
  {
   "cell_type": "code",
   "execution_count": 32,
   "metadata": {},
   "outputs": [
    {
     "name": "stdout",
     "output_type": "stream",
     "text": [
      "The first 10 predictions using a threshold of 0.35\n",
      "[1, 1, 1, 1, 1, 1, 0, 1, 1, 1, 1, 0, 1, 1, 1, 0, 1, 1, 1, 1]\n"
     ]
    }
   ],
   "source": [
    "# Predict using a threshold of 0.35\n",
    "print('The first 10 predictions using a threshold of 0.35')\n",
    "print(Predict(lm,X,0.35)[0:20])"
   ]
  },
  {
   "cell_type": "markdown",
   "metadata": {},
   "source": [
    "But which threshold do we use. One approach is to use the threshold which maximises accuracy. This is programatically done by looking at the ratio of successes we have achieved. For a threshold of 0.35 we roughly obtain a 39% prediction accuracy as shown below"
   ]
  },
  {
   "cell_type": "code",
   "execution_count": 35,
   "metadata": {},
   "outputs": [
    {
     "name": "stdout",
     "output_type": "stream",
     "text": [
      "The percentage of predictions that were correct is 0.3838383838383838\n"
     ]
    }
   ],
   "source": [
    "print('The percentage of predictions that were correct is {}'.format(np.sum((Predict(lm,X,0.35) == y)[:,0])/np.size(y)))"
   ]
  },
  {
   "cell_type": "markdown",
   "metadata": {},
   "source": [
    "We can loop through the possible values of the threshold and choose the one with the best accuracy. This approach shows that the best accuracy we can attain is approximately 0.62 using only Age as a predictor variable"
   ]
  },
  {
   "cell_type": "code",
   "execution_count": 36,
   "metadata": {},
   "outputs": [
    {
     "name": "stdout",
     "output_type": "stream",
     "text": [
      "The best threshold is 0.402. The corresponding accuracy is 0.6161616161616161\n"
     ]
    }
   ],
   "source": [
    "bestThreshold = 0\n",
    "bestAccuracy = 0\n",
    "for i in np.arange(0,1,0.001):\n",
    "    accuracy = np.sum((Predict(lm,X,i) == y)[:,0])/np.size(y)\n",
    "    if bestAccuracy < accuracy:\n",
    "        bestAccuracy = accuracy\n",
    "        bestThreshold = i\n",
    "\n",
    "print('The best threshold is {thresh}. The corresponding accuracy is {acc}'.format(thresh = bestThreshold, acc = bestAccuracy))"
   ]
  },
  {
   "cell_type": "markdown",
   "metadata": {},
   "source": [
    "In reality, this threshold is dependent on the cost for incorrectly predicting a person has survived as opposed to the cost of incorrectly predicting a person has not survived. For example if incorrectly predicting a person has survived (False Positives) is orders of magnitude worse than incorrectly predicting a person has not survived (False Negatives), then we could expect the threshold to be placed much higher than 0.402 found above. This is because we want to be pretty sure that the passenger has survived before placing them into the survived class."
   ]
  },
  {
   "cell_type": "markdown",
   "metadata": {},
   "source": [
    "Let's plot the regression line onto the training data we used to fit the model"
   ]
  },
  {
   "cell_type": "code",
   "execution_count": 581,
   "metadata": {},
   "outputs": [],
   "source": [
    "def RegLine(x):\n",
    "    Y=lm1.intercept_ + lm1.coef_[0] * x\n",
    "    return Y"
   ]
  },
  {
   "cell_type": "code",
   "execution_count": 582,
   "metadata": {},
   "outputs": [
    {
     "data": {
      "text/plain": [
       "[<matplotlib.lines.Line2D at 0x18da7c48668>]"
      ]
     },
     "execution_count": 582,
     "metadata": {},
     "output_type": "execute_result"
    },
    {
     "data": {
      "image/png": "[encoded data removed]",
      "text/plain": [
       "<matplotlib.figure.Figure at 0x18da7547780>"
      ]
     },
     "metadata": {},
     "output_type": "display_data"
    }
   ],
   "source": [
    "plt.scatter(x=X[:,0],y=y[:,0])\n",
    "\n",
    "Y = RegLine(X)\n",
    "\n",
    "plt.plot(X[:,0],Y,'r-')\n"
   ]
  },
  {
   "cell_type": "markdown",
   "metadata": {},
   "source": [
    "One may think at this point that Linear Regression would suffice for classification problems. However, when more than two classes are involved in the response variable, it does not make sense to fit a straight line to the predicted classes. For example, suppose we would like to predict or model the relationship between income and favourite colour and we are only considering red, yellow and blue. The question would be 'How would we encode these classes?'. The answer is that with linear regression, we can't. The mapping red = 0, yellow = 1, blue = 2 would yield different results from red = 0, blue = 1, yellow = 2. This is because we are implying an order here that blue is greater than yellow which is greater than red. Additionally, there is no reason to assume that the difference between red and yellow is the same as yellow and blue. \n",
    "\n",
    "Another reason linear regression falls short in situations like this is that the resulting predicted value is not a probability. Although not clear in the model with Age above, the model with Fare below shows that a Fare greater than 300 will result in a value above 1. "
   ]
  },
  {
   "cell_type": "code",
   "execution_count": 580,
   "metadata": {},
   "outputs": [
    {
     "name": "stdout",
     "output_type": "stream",
     "text": [
      "The formula is:\n",
      "\n",
      " Y=[-0.45101795] + [-0.00070553] * X_1\n",
      "\n",
      "\n",
      " The first 10 fitted values\n",
      "[[0.38902374]\n",
      " [0.38902374]\n",
      " [0.38902374]\n",
      " [0.38902374]\n",
      " [0.38902374]\n",
      " [0.38902374]\n",
      " [0.38902374]\n",
      " [0.38902374]\n",
      " [0.38902374]\n",
      " [0.38902374]]\n"
     ]
    },
    {
     "data": {
      "text/plain": [
       "[<matplotlib.lines.Line2D at 0x18da7bdffd0>]"
      ]
     },
     "execution_count": 580,
     "metadata": {},
     "output_type": "execute_result"
    },
    {
     "data": {
      "image/png": "[encoded data removed]",
      "text/plain": [
       "<matplotlib.figure.Figure at 0x18da74f84e0>"
      ]
     },
     "metadata": {},
     "output_type": "display_data"
    }
   ],
   "source": [
    "# Create our parameters X and response y\n",
    "X = titanicCleaned['Fare']\n",
    "y = titanicCleaned['Survived']\n",
    "\n",
    "# Reshape the data to indicate that this is many observations of one parameter\n",
    "X = X.values.reshape(-1,1)\n",
    "y = y.values.reshape(-1,1)\n",
    "\n",
    "# Get the model\n",
    "lm1 = LinearRegression()\n",
    "\n",
    "# Fit the model\n",
    "lm1.fit(X,y)\n",
    "\n",
    "print('The formula is:\\n\\n Y={} + {} * X_1'.format(lm.intercept_,lm.coef_[0]))\n",
    "\n",
    "# Let's get the predictions\n",
    "fitted = lm1.predict(X)\n",
    "\n",
    "# print the first 10 predictions\n",
    "print('\\n\\n The first 10 fitted values')\n",
    "print(fitted[0:10])\n",
    "\n",
    "plt.scatter(x=X[:,0],y=y[:,0])\n",
    "\n",
    "Y = RegLine(X)\n",
    "\n",
    "plt.plot(X[:,0],Y,'r-')"
   ]
  },
  {
   "cell_type": "markdown",
   "metadata": {},
   "source": [
    "It is possible to map the values of y above to the interval [0,1] so that this condition for a probability function to be satisfied. There are many functions that would satisfy this. Let us choose the following function\n",
    "\n",
    "$$P(x) \\rightarrow [0,1]$$\n",
    "$$P(x) = \\frac{ \\exp(\\beta_0 + \\beta_1 x) }{ 1 + \\exp(\\beta_0 + \\beta_1 x) }$$\n",
    "\n",
    "This satifies the requirement, as seen below. This function is called the Logistic Function and is the basis for Logistic Regression, which we introduce in the next section. (The fit below is only for demonstration purposes and does not represent and actual fit of the logistic function to the data)."
   ]
  },
  {
   "cell_type": "code",
   "execution_count": 154,
   "metadata": {},
   "outputs": [],
   "source": [
    "def LogisticFunction(x,beta0,beta1):\n",
    "    numerator = list(map(lambda x: math.exp(beta0)*math.exp(x),x*beta1))\n",
    "    denominator = list(map(lambda x: 1 + math.exp(beta0)*math.exp(x),x*beta1))\n",
    "    return list(map(lambda x,y: x/y,numerator,denominator))"
   ]
  },
  {
   "cell_type": "code",
   "execution_count": 155,
   "metadata": {},
   "outputs": [
    {
     "data": {
      "text/plain": [
       "[<matplotlib.lines.Line2D at 0x18dd4e49e48>]"
      ]
     },
     "execution_count": 155,
     "metadata": {},
     "output_type": "execute_result"
    },
    {
     "data": {
      "image/png": "[encoded data removed]",
      "text/plain": [
       "<matplotlib.figure.Figure at 0x18dd4df7e10>"
      ]
     },
     "metadata": {},
     "output_type": "display_data"
    }
   ],
   "source": [
    "x = np.arange(0,500,0.1)\n",
    "\n",
    "plt.scatter(x=X[:,0],y=y[:,0])\n",
    "\n",
    "Y = LogisticFunction(x,-7,0.03)\n",
    "\n",
    "plt.plot(x,Y,'r-')"
   ]
  },
  {
   "cell_type": "markdown",
   "metadata": {},
   "source": [
    "## 4- Logistic Regression\n",
    "\n",
    "As seen in the previous section, Logistic Regression offers solutions to the issues of Linear Regression for the cases where the response variable is qualitative. The logistic function, which is the target of the fitting process for Logistic Regression, is\n",
    "\n",
    "$$P(x) \\rightarrow [0,1]$$\n",
    "$$P(x) = \\frac{ \\exp(\\beta_0 + \\beta_1 x) }{ 1 + \\exp(\\beta_0 + \\beta_1 x) }$$\n",
    "\n",
    "We can manipulate the above to obtain the odds\n",
    "\n",
    "$$\\frac{ P(x) }{ 1-P(x) } = \\exp(\\beta_0 + \\beta_1 x)$$\n",
    "\n",
    "Then we can take the natural logarithm of both sides to obtain the logit or log-odds\n",
    "\n",
    "$$\\log(\\frac{ P(x) }{ 1-P(x) }) = \\beta_0 + \\beta_1 x$$\n",
    "\n",
    "This shows that the log-odds is a linear function of x. The task comes down to estimating the coefficients $\\beta_0$ and $\\beta_1$ such that the fit assigns as many entities to the correct class as possible. This is mathematically expressed as\n",
    "\n",
    "$$\\max_{\\beta_0,\\beta_1} I(y_i,\\hat{y}_i)$$\n",
    "\n",
    "where $\\hat{y}_i$ are the predictions, $y_i$ are the observed responses and $I(y_i,\\hat{y}_i) = 1$ if $y_i=\\hat{y}_i$ and $I(y_i,\\hat{y}_i) = 0$ otherwise. This is a type of *Maximum Lilkelihood Estimation* (MLE). Explicitly, define the likelihood of $\\beta = (\\beta_0,\\beta_1)$ as being the probability of observing this particular outcome given the data just observed\n",
    "\n",
    "$$L(\\beta) = P(Y|\\beta,x) = P(y_1,y_2,...,y_n|\\beta,x)$$\n",
    "\n",
    "where $x=(x_1,x_2,...,x_n$ is the observed predictors. If we can assume independence in the sampling procedure, in other words that the random variables $X_i$ and $X_j$ are independent, then we have\n",
    "\n",
    "$$L(\\beta) = P(y_1|\\beta,x_1) \\times P(y_2|\\beta,x_2) \\times ... \\times P(y_n|\\beta,x_n)$$\n",
    "\n",
    "Note that $P(y_n|\\beta,x_1,x_2,...,x_n) = P(y_n|\\beta,x_n)$ because we have assumed that $y_n$ is only dependent on the predictor $x_n$. Substituting for the actual observations\n",
    "\n",
    "$$L(\\beta) = P(y = 1|\\beta,x_1) \\times P(y = 1|\\beta,x_2) \\times ... \\times P(y = 1|\\beta,x_{n1}) \\times P(y = 0|\\beta,x_{n1+1}) \\times P(y = 0|\\beta,x_{n1+2}) \\times ... \\times P(y = 0|\\beta,x_n)$$\n",
    "\n",
    "where for convenience we have ordered all the observations from class 1 first followed by the observations from class 0. Noting that $P(y = 0|\\beta,x) = 1 - P(y = 1|\\beta,x)$ we can re-write the above equation as\n",
    "\n",
    "$$L(\\beta) = \\prod_{i:y_i=1} P(y = 1|\\beta,x_i) \\prod_{i:y_i=0} (1-P(y = 1|\\beta,x_i))$$\n",
    "\n",
    "But $P(y = 1|\\beta,x_i)$ is simply the logistic function above. i.e. the probability that this observation lies in class 1. Substitution results in\n",
    "\n",
    "$$L(\\beta) = \\prod_{i=1}^{n1} \\frac{ \\exp(\\beta_0 + \\beta_1 x_i) }{ 1 + \\exp(\\beta_0 + \\beta_1 x_i) } \\prod_{i=n1+1}^n (1-\\frac{ \\exp(\\beta_0 + \\beta_1 x_i) }{ 1 + \\exp(\\beta_0 + \\beta_1 x_i) })$$\n",
    "\n",
    "where there are $n1$ observations from class 1. The task is to maximise this likelihood function. Noting that $a > b \\implies \\log{a} > \\log{b} \\; \\forall \\; a > 0$ we have that maximising this function corresponds to maximising the log of this function. The log-likelihood is then given as\n",
    "\n",
    "$$l(\\beta) = \\log( \\prod_{i=1}^{n1} \\frac{ \\exp(\\beta_0 + \\beta_1 x_i) }{ 1 + \\exp(\\beta_0 + \\beta_1 x_i) } ) \\log( \\prod_{i=n1+1}^n (1-\\frac{ \\exp(\\beta_0 + \\beta_1 x_i) }{ 1 + \\exp(\\beta_0 + \\beta_1 x_i) }) )$$\n",
    "\n",
    "$$= \\sum_{i=1}^{n1} \\log( \\frac{ \\exp(\\beta_0 + \\beta_1 x_i) }{ 1 + \\exp(\\beta_0 + \\beta_1 x_i) } ) \\sum_{i=n1+1}^n \\log( (1-\\frac{ \\exp(\\beta_0 + \\beta_1 x_i) }{ 1 + \\exp(\\beta_0 + \\beta_1 x_i) }) )$$\n",
    "\n",
    "$$= \\sum_{i=1}^{n1} \\log( \\exp(\\beta_0 + \\beta_1 x_i)) - \\sum_{i=1}^{n1} \\log(  1 + \\exp(\\beta_0 + \\beta_1 x_i) ) -\\sum_{i=n1+1}^n \\log( 1 + \\exp(\\beta_0 + \\beta_1 x_i) )$$\n",
    "\n",
    "$$= \\sum_{i=1}^{n1} (\\beta_0 + \\beta_1 x_i) - \\sum_{i=1}^{n} \\log(  1 + \\exp(\\beta_0 + \\beta_1 x_i) )$$\n",
    "\n",
    "We will need to maximise the log-likelihood with respect to $\\beta$. We can take the following derivatives\n",
    "\n",
    "$$f_1 = \\frac{ \\partial l }{ \\partial \\beta_0 } = n1 - \\sum_{i=1}^n \\frac{ \\exp(A_i) }{ 1 + \\exp(A_i) }$$\n",
    "\n",
    "$$f_2 = \\frac{ \\partial l }{ \\partial \\beta_1 } = \\sum_{i=1}^{n1} x_i - \\sum_{i=1}^n \\frac{ x_i \\exp(A_i) }{ 1 + \\exp(A_i) }$$\n",
    "\n",
    "where for ease of notation $A_i = \\beta_0 + \\beta_1 x_i$. In order to find the roots of these two function in a two dimensional setting, we can use the multidimensional Newton-Raphson method. This method is described as follows\n",
    "\n",
    "\n",
    "$$\\beta_{n+1} = \\beta_{n} - J^{-1} (f_1(\\beta_{n}),f_2(\\beta_{n}))^T$$\n",
    "\n",
    "$$J = \\begin{bmatrix}\n",
    "    \\frac{ \\partial f_1 }{ \\partial \\beta_0 }       & \\frac{ \\partial f_1 }{ \\partial \\beta_1 } \\\\\n",
    "    \\frac{ \\partial f_2 }{ \\partial \\beta_0 }       & \\frac{ \\partial f_2 }{ \\partial \\beta_1 }\n",
    "\\end{bmatrix}$$\n",
    "\n",
    "where $^T$ is the transpose. This method describes an iterative process by which we obtain the next estimate $\\beta_{n+1}$ from the previous $\\beta_{n}$. The elements of the Jacobian Matrix (J) are\n",
    "\n",
    "$$\\frac{ \\partial f_1 }{ \\partial \\beta_0 } = - \\sum_{i=1}^n \\frac{ \\exp(A_i) }{ (1 + \\exp(A_i))^2 }$$\n",
    "\n",
    "$$\\frac{ \\partial f_1 }{ \\partial \\beta_1 } = - \\sum_{i=1}^n \\frac{ x_i \\exp(A_i) }{ (1 + \\exp(A_i))^2 }$$\n",
    "\n",
    "$$\\frac{ \\partial f_2 }{ \\partial \\beta_0 } = - \\sum_{i=1}^n \\frac{ x_i \\exp(A_i) }{ (1 + \\exp(A_i))^2 }$$\n",
    "\n",
    "$$\\frac{ \\partial f_2 }{ \\partial \\beta_1 } = - \\sum_{i=1}^n \\frac{ x_i^2 \\exp(A_i) }{ (1 + \\exp(A_i))^2 }$$\n",
    "\n",
    "Below, we can make construct an iterative function to apply this method."
   ]
  },
  {
   "cell_type": "code",
   "execution_count": 508,
   "metadata": {},
   "outputs": [],
   "source": [
    "def f_1(b0,b1,X,Y):\n",
    "    '''\n",
    "    This is the function f_1 above. One of the functions we are trying to find the roots of\n",
    "    b0:= beta_0\n",
    "    b1:= beta_1\n",
    "    X:= The observed predictors as a series\n",
    "    Y:= The observed responses as a series\n",
    "    '''\n",
    "    return np.sum(Y) - np.sum(list(map(lambda x: x,LogisticFunction(X,b0,b1))))\n",
    "\n",
    "def f_2(b0,b1,X,Y):\n",
    "    '''\n",
    "    This is the function f_1 above. One of the functions we are trying to find the roots of\n",
    "    b0:= beta_0\n",
    "    b1:= beta_1\n",
    "    X:= The observed predictors as a series\n",
    "    Y:= The observed responses as a series\n",
    "    '''\n",
    "    s = 0\n",
    "    for i in range(0,len(X)):\n",
    "        s += Y[i]*X[i]\n",
    "    return s - np.sum(list(map(lambda x,y: x*y,X,LogisticFunction(X,b0,b1))))\n",
    "\n",
    "def df_1b0(b0,b1,X,Y):\n",
    "    '''\n",
    "    This is element (1,1) of the Jacobian Matrix.\n",
    "    b0:= beta_0\n",
    "    b1:= beta_1\n",
    "    X:= The observed predictors as a series\n",
    "    Y:= The observed responses as a series\n",
    "    '''\n",
    "    m1 = LogisticFunction(X,b0,b1)\n",
    "    m2 = list(map(lambda x: 1 + math.exp(b0+b1*x),X))\n",
    "    return -np.sum(list(map(lambda x,y: x/y,m1,m2)))\n",
    "\n",
    "def df_1b1(b0,b1,X,Y):\n",
    "    '''\n",
    "    This is element (1,2) of the Jacobian Matrix.\n",
    "    b0:= beta_0\n",
    "    b1:= beta_1\n",
    "    X:= The observed predictors as a series\n",
    "    Y:= The observed responses as a series\n",
    "    '''\n",
    "    m1 = X*LogisticFunction(X,b0,b1)\n",
    "    m2 = list(map(lambda x: 1 + math.exp(b0+b1*x),X))\n",
    "    return -np.sum(list(map(lambda x,y: x/y,m1,m2)))\n",
    "\n",
    "def df_2b0(b0,b1,X,Y):\n",
    "    '''\n",
    "    This is element (2,1) of the Jacobian Matrix.\n",
    "    b0:= beta_0\n",
    "    b1:= beta_1\n",
    "    X:= The observed predictors as a series\n",
    "    Y:= The observed responses as a series\n",
    "    '''\n",
    "    m1 = X*LogisticFunction(X,b0,b1)\n",
    "    m2 = list(map(lambda x: 1 + math.exp(b0+b1*x),X))\n",
    "    return -np.sum(list(map(lambda x,y: x/y,m1,m2)))\n",
    "\n",
    "def df_2b1(b0,b1,X,Y):\n",
    "    '''\n",
    "    This is element (2,2) of the Jacobian Matrix.\n",
    "    b0:= beta_0\n",
    "    b1:= beta_1\n",
    "    X:= The observed predictors as a series\n",
    "    Y:= The observed responses as a series\n",
    "    '''\n",
    "    m1 = X**2*LogisticFunction(X,b0,b1)\n",
    "    m2 = list(map(lambda x: 1 + math.exp(b0+b1*x),X))\n",
    "    return -np.sum(list(map(lambda x,y: x/y,m1,m2)))\n",
    "\n",
    "def invJacob(b0,b1,X,Y):\n",
    "    '''\n",
    "    This function finds the inverse of the Jacobian Matrix\n",
    "    b0:= beta_0\n",
    "    b1:= beta_1\n",
    "    X:= The observed predictors as a series\n",
    "    Y:= The observed responses as a series\n",
    "    '''\n",
    "    # Calculate the delta\n",
    "    delta = df_1b0(b0,b1,X,Y)*df_2b1(b0,b1,X,Y) - df_1b1(b0,b1,X,Y)*df_2b0(b0,b1,X,Y)\n",
    "    \n",
    "    # Calculate the elements of the jacobian matrix and form 2 vectors (the rows of the inverse of the matrix)\n",
    "    a1 = np.array((df_2b1(b0,b1,X,Y),-df_1b1(b0,b1,X,Y)))\n",
    "    a2 = np.array((-df_2b0(b0,b1,X,Y),df_1b0(b0,b1,X,Y)))\n",
    "    \n",
    "    # Return the inverse as a matrix\n",
    "    return (1/delta)*np.array([a1,a2])\n",
    "\n",
    "def IterRaphson(b0_0,b1_0,X,Y):\n",
    "    '''\n",
    "    This function is the iterative step. Given initial values of beta, this function will\n",
    "    give the new beta of the next step\n",
    "    b0:= beta_0\n",
    "    b1:= beta_1\n",
    "    X:= The observed predictors as a series\n",
    "    Y:= The observed responses as a series\n",
    "    '''\n",
    "    \n",
    "    # Form a vector of the previous step's estimates\n",
    "    a1 = np.array((b0_0,b1_0))\n",
    "    \n",
    "    # The term involving the inverse of the Jacobian Matrix\n",
    "    a2 = np.array((np.sum(invJacob(b0_0,b1_0,X,Y)[0]*np.array((f_1(b0_0,b1_0,X,Y),f_2(b0_0,b1_0,X,Y)))),\\\n",
    "        np.sum(invJacob(b0_0,b1_0,X,Y)[1]*np.array((f_1(b0_0,b1_0,X,Y),f_2(b0_0,b1_0,X,Y))))))\n",
    "    \n",
    "    # We have to be careful since exponential functions can grow pretty large\n",
    "    # Here we say that the maximum step we will allow is 0.1\n",
    "    # a2/np.sqrt(np.abs(np.sum(a2**2))) is used to preserve the sign since\n",
    "    # we don't want to go in the wrong direction\n",
    "    if np.sqrt(np.sum(a2**2)) > 0.1:\n",
    "        return a1 - 0.1*a2/np.sqrt(np.abs(np.sum(a2**2)))\n",
    "    else:\n",
    "        return a1 - a2\n",
    "\n",
    "def NewtonRaphson(b0_0,b1_0,X,Y,silent):\n",
    "    '''\n",
    "    This is the Newton-Raphson method\n",
    "    b0:= beta_0\n",
    "    b1:= beta_1\n",
    "    X:= The observed predictors as a series\n",
    "    Y:= The observed responses as a series\n",
    "    silent:= If True, do not output iteration process\n",
    "    '''\n",
    "    # Initially, set b0 and b1 to be very different from the initial values\n",
    "    # so that the while loop is enetered in to\n",
    "    b0 = b0_0+1\n",
    "    b1 = b1_0+1\n",
    "    \n",
    "    # Set up an index to ensure that we don't run an non-converging solution\n",
    "    # indefinitely\n",
    "    i = 0\n",
    "    \n",
    "    # While the diference of the new values to the old is still too large and\n",
    "    # we haven't been iterating for that long\n",
    "    while (np.sqrt(((b0-b0_0)**2 + (b1-b1_0)**2))  > 0.00001) & (i < 10000):\n",
    "        # Apply one step of the Newton-Raphson procedure\n",
    "        a = IterRaphson(b0_0,b1_0,X,Y)\n",
    "        \n",
    "        # Save the old parameters\n",
    "        b0_0 = b0\n",
    "        b1_0 = b1\n",
    "        \n",
    "        # Save the new parameters\n",
    "        b0 = a[0]\n",
    "        b1 = a[1]\n",
    "        i += 1\n",
    "        if (i%10 == 0) and (not silent):\n",
    "            print('step {}: {}'.format(i,a))\n",
    "    return(b0,b1)"
   ]
  },
  {
   "cell_type": "code",
   "execution_count": 520,
   "metadata": {
    "scrolled": true
   },
   "outputs": [
    {
     "name": "stdout",
     "output_type": "stream",
     "text": [
      "step 10: [0.98692566 0.38663344]\n",
      "step 20: [1.47800099 0.29268792]\n",
      "step 30: [1.97135295 0.21148119]\n",
      "step 40: [2.46615454 0.13960746]\n",
      "step 50: [2.96197444 0.07511455]\n",
      "step 60: [ 3.4444614  -0.02827598]\n",
      "step 70: [ 2.9444803  -0.02392827]\n",
      "step 80: [ 2.4444976  -0.01976903]\n",
      "step 90: [ 1.94451312 -0.01583099]\n",
      "step 100: [ 1.44452678 -0.0121359 ]\n",
      "step 110: [ 0.94453856 -0.00870381]\n",
      "step 120: [ 0.44454843 -0.00556386]\n",
      "step 130: [-0.05544357 -0.00273621]\n",
      "step 140: [-0.45101784 -0.00070553]\n",
      "The estimates via MLE is: beta_0 + beta_1 * X = -0.45101784492432306 + -0.0007055342394880885 * X\n"
     ]
    }
   ],
   "source": [
    "# Create our parameters X and response y\n",
    "X = titanicCleaned['Fare']\n",
    "y = titanicCleaned['Survived']\n",
    "\n",
    "b0_0 = -0.5\n",
    "b1_0 = -0.5\n",
    "\n",
    "beta_0, beta_1 = NewtonRaphson(b0_0,b1_0,X,y,False)\n",
    "print('The estimates via MLE is: beta_0 + beta_1 * X = {} + {} * X'.format(beta_0, beta_1))"
   ]
  },
  {
   "cell_type": "markdown",
   "metadata": {},
   "source": [
    "Below, we demonstrate the application of the function sklearn.linear_model.LogisticRegression() on the same dataset"
   ]
  },
  {
   "cell_type": "code",
   "execution_count": 521,
   "metadata": {},
   "outputs": [],
   "source": [
    "from sklearn.linear_model import LogisticRegression"
   ]
  },
  {
   "cell_type": "code",
   "execution_count": 589,
   "metadata": {},
   "outputs": [
    {
     "name": "stdout",
     "output_type": "stream",
     "text": [
      "The fitted model is: [-0.45101795] + [-0.00070553] * X\n"
     ]
    }
   ],
   "source": [
    "# Create our parameters X and response y\n",
    "X = titanicCleaned['Fare']\n",
    "y = titanicCleaned['Survived']\n",
    "\n",
    "# Reshape the data to indicate that this is many observations of one parameter\n",
    "X = X.values.reshape(-1,1)\n",
    "\n",
    "# Get the model\n",
    "lm = LogisticRegression(solver='newton-cg')\n",
    "\n",
    "# Fit the model\n",
    "lm.fit(X,y)\n",
    "\n",
    "# The fitted model\n",
    "print('The fitted model is: {} + {} * X'.format(lm.intercept_,lm.coef_[0]))"
   ]
  },
  {
   "cell_type": "markdown",
   "metadata": {},
   "source": [
    "The results of the package is quite close to ours. We chose the solver for the LogisticRegression function to be 'newton-cg' and not the default 'liblinear'. We can visualise the data and our fit"
   ]
  },
  {
   "cell_type": "code",
   "execution_count": 590,
   "metadata": {},
   "outputs": [
    {
     "data": {
      "text/plain": [
       "[<matplotlib.lines.Line2D at 0x18da7665d68>]"
      ]
     },
     "execution_count": 590,
     "metadata": {},
     "output_type": "execute_result"
    },
    {
     "data": {
      "image/png": "[encoded data removed]",
      "text/plain": [
       "<matplotlib.figure.Figure at 0x18da7665f98>"
      ]
     },
     "metadata": {},
     "output_type": "display_data"
    }
   ],
   "source": [
    "x = np.arange(min(X)-10000,max(X)+10000,0.1)\n",
    "\n",
    "#plt.scatter(x=X,y=y)\n",
    "\n",
    "Y = LogisticFunction(x,-0.45101795,- 0.00070553)\n",
    "\n",
    "p=plt.plot(x,Y,'r-')\n",
    "\n",
    "Y = RegLine(x)\n",
    "\n",
    "plt.plot(x,Y,'g-')"
   ]
  },
  {
   "cell_type": "code",
   "execution_count": null,
   "metadata": {},
   "outputs": [],
   "source": []
  }
 ],
 "metadata": {
  "kernelspec": {
   "display_name": "Python 3",
   "language": "python",
   "name": "python3"
  },
  "language_info": {
   "codemirror_mode": {
    "name": "ipython",
    "version": 3
   },
   "file_extension": ".py",
   "mimetype": "text/x-python",
   "name": "python",
   "nbconvert_exporter": "python",
   "pygments_lexer": "ipython3",
   "version": "3.6.4"
  }
 },
 "nbformat": 4,
 "nbformat_minor": 2
}
